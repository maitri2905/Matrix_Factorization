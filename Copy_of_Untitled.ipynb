{
  "nbformat": 4,
  "nbformat_minor": 0,
  "metadata": {
    "colab": {
      "name": "Copy of Untitled",
      "provenance": [],
      "collapsed_sections": [],
      "toc_visible": true,
      "include_colab_link": true
    },
    "kernelspec": {
      "name": "python3",
      "display_name": "Python 3"
    },
    "language_info": {
      "name": "python"
    }
  },
  "cells": [
    {
      "cell_type": "markdown",
      "metadata": {
        "id": "view-in-github",
        "colab_type": "text"
      },
      "source": [
        "<a href=\"https://colab.research.google.com/github/maitri2905/Matrix_Factorization/blob/main/Copy_of_Untitled.ipynb\" target=\"_parent\"><img src=\"https://colab.research.google.com/assets/colab-badge.svg\" alt=\"Open In Colab\"/></a>"
      ]
    },
    {
      "cell_type": "code",
      "metadata": {
        "colab": {
          "resources": {
            "http://localhost:8080/nbextensions/google.colab/files.js": {
              "data": "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",
              "ok": true,
              "headers": [
                [
                  "content-type",
                  "application/javascript"
                ]
              ],
              "status": 200,
              "status_text": ""
            }
          },
          "base_uri": "https://localhost:8080/",
          "height": 72
        },
        "id": "bGHG8FyKdN2f",
        "outputId": "94308ea3-cb59-40ce-e744-9a3371cd758c"
      },
      "source": [
        "from google.colab import files\n",
        "uploaded = files.upload()"
      ],
      "execution_count": 4,
      "outputs": [
        {
          "output_type": "display_data",
          "data": {
            "text/html": [
              "\n",
              "     <input type=\"file\" id=\"files-b04e61fe-13d3-4eba-a81b-9ddd63fb3885\" name=\"files[]\" multiple disabled\n",
              "        style=\"border:none\" />\n",
              "     <output id=\"result-b04e61fe-13d3-4eba-a81b-9ddd63fb3885\">\n",
              "      Upload widget is only available when the cell has been executed in the\n",
              "      current browser session. Please rerun this cell to enable.\n",
              "      </output>\n",
              "      <script src=\"/nbextensions/google.colab/files.js\"></script> "
            ],
            "text/plain": [
              "<IPython.core.display.HTML object>"
            ]
          },
          "metadata": {}
        },
        {
          "output_type": "stream",
          "name": "stdout",
          "text": [
            "Saving input1.csv to input1.csv\n"
          ]
        }
      ]
    },
    {
      "cell_type": "code",
      "metadata": {
        "id": "odkYW3zdbhTL",
        "colab": {
          "base_uri": "https://localhost:8080/"
        },
        "outputId": "4c48b4bf-e6ea-4cbe-832e-479fd5e5ebe3"
      },
      "source": [
        "import numpy as np\n",
        "import pandas as pd\n",
        "import csv\n",
        "import io\n",
        "\n",
        "class Matrix_Factorization():\n",
        "\n",
        "    def __init__(self, input_matrix_df, dimension, learning_rate, regularization_param, iterations):\n",
        "      \n",
        "        self.input_matrix_df = input_matrix_df\n",
        "        self.users, self.items = input_matrix_df.shape\n",
        "        self.dimension = dimension\n",
        "        self.learning_rate = learning_rate\n",
        "        self.regularization_param = regularization_param\n",
        "        self.iterations = iterations\n",
        "\n",
        "    def train(self):\n",
        "\n",
        "        self.randon_latent_feature_matrices_users = np.random.normal(scale=1./self.dimension, size=(self.users, self.dimension))\n",
        "        self.randon_latent_feature_matrices_items = np.random.normal(scale=1./self.dimension, size=(self.items, self.dimension))\n",
        "\n",
        "        self.bias_users = np.zeros(self.users)\n",
        "        self.bias_items = np.zeros(self.items)\n",
        "        self.biases = np.mean(self.input_matrix_df[np.where(self.input_matrix_df != 0)])\n",
        "import numpy as np\n",
        "import pandas as pd\n",
        "import csv\n",
        "import io\n",
        "\n",
        "class Matrix_Factorization():\n",
        "\n",
        "    def __init__(self, input_matrix_df, dimension, learning_rate, regularization_param, iterations):\n",
        "      \n",
        "        self.input_matrix_df = input_matrix_df\n",
        "        self.users, self.items = input_matrix_df.shape\n",
        "        self.dimension = dimension\n",
        "        self.learning_rate = learning_rate\n",
        "        self.regularization_param = regularization_param\n",
        "        self.iterations = iterations\n",
        "\n",
        "    def train(self):\n",
        "\n",
        "        self.randon_latent_feature_matrices_users = np.random.normal(scale=1./self.dimension, size=(self.users, self.dimension))\n",
        "        self.randon_latent_feature_matrices_items = np.random.normal(scale=1./self.dimension, size=(self.items, self.dimension))\n",
        "\n",
        "        self.bias_users = np.zeros(self.users)\n",
        "        self.bias_items = np.zeros(self.items)\n",
        "        self.biases = np.mean(self.input_matrix_df[np.where(self.input_matrix_df != 0)])\n",
        "\n",
        "        self.training_sample_list = [\n",
        "            (user, item, self.input_matrix_df[user, item])\n",
        "            for user in range(self.users)\n",
        "            for item in range(self.items)\n",
        "            if self.input_matrix_df[user, item] > 0\n",
        "        ]\n",
        "\n",
        "        training = []\n",
        "        for iteration in range(self.iterations):\n",
        "            np.random.shuffle(self.training_sample_list)\n",
        "            self.sgd_step()\n",
        "            mean_sqare_error = self.mean_sqare_error()\n",
        "            training.append((iteration, mean_sqare_error))\n",
        "            if (iteration+1) % 10 == 0:\n",
        "                print(\"Iteration: %d ; error = %.4f\" % (iteration+1, mean_sqare_error))\n",
        "\n",
        "        return training\n",
        "\n",
        "    def mean_sqare_error(self):\n",
        "       \n",
        "        users, items = self.input_matrix_df.nonzero()\n",
        "        prediction = self.full_matrix()\n",
        "        error = 0\n",
        "        for user, item in zip(users, items):\n",
        "            error += pow(self.input_matrix_df[user, item] - prediction[user, item], 2)\n",
        "        return np.sqrt(error)\n",
        "        \n",
        "\n",
        "    def rating(self, i, j):\n",
        "       \n",
        "        prediction = self.biases + self.bias_users[i] + self.bias_items[j] + self.randon_latent_feature_matrices_users[i, :].dot(self.randon_latent_feature_matrices_items[j, :].T)\n",
        "        return prediction\n",
        "\n",
        "    def sgd_step(self):\n",
        "       \n",
        "        for user, item, value in self.training_sample_list:\n",
        "            prediction = self.rating(user, item)\n",
        "            error = (value - prediction)\n",
        "\n",
        "            self.bias_users[user] += self.learning_rate * (error - self.regularization_param * self.bias_users[user])\n",
        "            self.bias_items[item] += self.learning_rate * (error - self.regularization_param * self.bias_items[item])\n",
        "\n",
        "            self.randon_latent_feature_matrices_users[user, :] += self.learning_rate * (error * self.randon_latent_feature_matrices_items[item, :] - self.regularization_param * self.randon_latent_feature_matrices_users[user,:])\n",
        "            self.randon_latent_feature_matrices_items[item, :] += self.learning_rate * (error * self.randon_latent_feature_matrices_users[user, :] - self.regularization_param * self.randon_latent_feature_matrices_items[item,:])\n",
        "\n",
        "   \n",
        "\n",
        "    def full_matrix(self):\n",
        "        \"\"\"\n",
        "        Computer the full matrix using the resultant biases, P and Q\n",
        "        \"\"\"\n",
        "        return self.biases + self.bias_users[:,np.newaxis] + self.bias_items[np.newaxis:,] + self.randon_latent_feature_matrices_users.dot(self.randon_latent_feature_matrices_items.T)\n",
        "\n",
        "\n",
        "input_matrix_df = pd.read_csv(io.BytesIO(uploaded['input1.csv']))\n",
        "\n",
        "input_matrix_df = np.array(input_matrix_df)\n",
        " \n",
        "matrix_obj = Matrix_Factorization(input_matrix_df, dimension=3, learning_rate=0.0001, regularization_param= 0.01, iterations=20)\n",
        "train_output = matrix_obj.train()"
      ],
      "execution_count": 35,
      "outputs": [
        {
          "output_type": "stream",
          "name": "stdout",
          "text": [
            "Iteration: 10 ; error = 62.5974\n",
            "Iteration: 20 ; error = 62.4485\n"
          ]
        }
      ]
    },
    {
      "cell_type": "code",
      "metadata": {
        "colab": {
          "base_uri": "https://localhost:8080/"
        },
        "id": "0ZJBlYM_on19",
        "outputId": "af1a844b-02e9-4322-f12e-69e855499f77"
      },
      "source": [
        "print(obj.full_matrix())\n",
        "print()\n"
      ],
      "execution_count": 20,
      "outputs": [
        {
          "output_type": "stream",
          "name": "stdout",
          "text": [
            "[[ 3.68334717  8.22365911 -0.03519204  5.01719678  7.84023115  5.22056796\n",
            "   2.58950837  1.64706467  3.39809582  6.78843144  6.59739721  4.81628451\n",
            "   3.39870134  5.71642069  5.13864608  7.48023066  3.97013892  6.27912869\n",
            "   6.00307651  4.67768633  3.10730092  5.77246742  4.87924947  2.98705792\n",
            "   3.50773602  4.07154169  3.35996182  4.54741395  4.21693274  0.93945802\n",
            "   4.97573246  2.59818608  1.42811781  5.38402169  7.01442914  3.81577255\n",
            "   6.08468813  6.03050225  4.09720876  5.01264266  7.14851408  5.51364383\n",
            "   4.28877207]\n",
            " [ 3.61891555  5.34828811  0.49564514  5.1926585   7.44952399  3.92383997\n",
            "   5.95021711  5.80641433  1.97698233  5.70299677  3.27900769  8.57839773\n",
            "   1.9641193   5.75999728  4.27615285  4.76702748  4.56079406  2.39496183\n",
            "   0.67392091  7.61876803  5.22219699  5.82681555  6.75470117  4.32350207\n",
            "   5.98724977  6.74511639  1.22311239  6.14989581  4.68665169  2.30896894\n",
            "   6.41995637  1.65856649  4.60251341  3.57063428  6.1875463   3.55728332\n",
            "   4.09926782  8.53474316  2.76788255  2.94063926  7.35466251  8.59069577\n",
            "   4.39598056]\n",
            " [ 5.09528848  6.35278891  2.76000786  6.79239709  5.35307473  5.35734926\n",
            "   0.81660875  4.88069647  6.55298562  4.73083529  7.10010575  3.14087424\n",
            "   5.68700378  6.09576476  3.88308872  9.12828493  4.39695961  7.20258449\n",
            "   7.97531151  2.72773376  3.09842798  8.09139666  1.2461814   5.67438433\n",
            "   2.58057681  3.18662727  4.42863714  4.48218731  2.40757066  5.15241791\n",
            "   1.93283211  1.32058678  3.92991744  5.07472042  6.48591946  4.00767963\n",
            "   5.91661399  4.04221731  4.75381089  4.03889867  6.37288839  4.62506707\n",
            "   5.47918855]\n",
            " [ 6.2699753   3.18428868  7.1007469   6.13074674  3.74652281  5.20249327\n",
            "   4.96942415  8.14769403  6.11539589  2.64957476  5.29021505  6.84113503\n",
            "   7.51356173  5.07720071  3.72815933  5.54214571  3.60366814  3.40202862\n",
            "   4.80963973  4.31462284  6.33618542  4.48164284  4.63575663  6.12480897\n",
            "   3.6027446   6.46530603  6.53372086  6.63169996  5.13774933  6.62793572\n",
            "   4.94956855  2.58258284  7.24184479  4.3228407   3.9441761   5.13839731\n",
            "   3.35479144  5.61747186  4.35123997  4.1723692   5.09141982  5.98971284\n",
            "   4.96995895]\n",
            " [ 5.07610266  4.14687532  3.3968361   6.75297234  4.9487764   4.4291317\n",
            "   3.41081529  7.80647134  5.44749281  3.81340372  4.67340595  5.95618133\n",
            "   4.80263348  5.96782479  3.27365435  6.91058079  4.65050981  4.20740729\n",
            "   4.05996983  4.81027723  4.74388963  7.68572181  2.83006157  6.48492673\n",
            "   4.28223811  5.22517614  3.13369276  5.68913105  2.95937271  6.04524741\n",
            "   3.18356786  0.79226126  6.22543319  3.75968192  5.66178797  3.88393497\n",
            "   4.31654121  5.83577662  3.76919022  2.65026791  6.35432676  6.75266305\n",
            "   5.42212881]\n",
            " [ 6.34669075  3.30687765  7.23306304  6.5490756   2.24008143  5.30956495\n",
            "   1.42773999  7.0804475   7.94412787  1.74263024  6.7019533   3.23866133\n",
            "   8.57199681  4.84832059  2.89440721  7.55009602  3.13112733  5.55880342\n",
            "   8.07614231  1.20997278  4.41455218  5.6478962   0.84186429  6.37757919\n",
            "   1.3283406   3.8216402   7.20224287  5.05138998  3.03103053  7.55002055\n",
            "   1.71305721  1.57752889  6.2030624   4.49582376  3.8124659   4.64727527\n",
            "   3.92560994  2.68423452  4.78682795  3.97891594  4.2041118   3.42887326\n",
            "   5.08167697]\n",
            " [ 4.47722832  7.17980091  2.50302468  4.59439939  7.20336036  5.55603544\n",
            "   4.58553319  2.62463962  3.42077518  5.99995244  6.37095655  6.42992317\n",
            "   4.87699502  5.18123295  5.44707068  5.94342063  3.4408237   4.9303509\n",
            "   5.33657089  5.19263501  4.73681911  3.51999863  6.8612109   2.92501156\n",
            "   3.72644351  5.64098312  5.24705028  5.62796987  6.0260157   1.42075788\n",
            "   6.79716715  3.80519389  2.71037119  5.49782755  5.79357635  4.6965396\n",
            "   5.10929711  6.64514077  4.2580407   5.77444973  6.47526747  5.79931114\n",
            "   4.00929368]\n",
            " [ 4.61614441  5.66551589  4.07067466  3.93219552  5.62016668  5.24420268\n",
            "   4.62482256  2.84715748  3.48647838  4.4594272   5.92796666  6.18355376\n",
            "   5.79182893  4.18288524  4.80609738  4.75095187  2.40432759  3.83893226\n",
            "   5.05997939  4.20377886  4.97890335  1.69786033  6.67034027  2.58186765\n",
            "   2.77223014  5.61909485  6.27709486  5.52431705  6.1996166   1.74883682\n",
            "   6.64905086  3.79413904  3.09643463  4.9935902   4.22299261  4.67821563\n",
            "   3.88864155  5.75948856  3.92802798  5.61804597  5.14180087  4.84310422\n",
            "   3.34033023]\n",
            " [ 5.46007374  5.43839402  3.98898232  6.59786367  5.28588494  5.31443294\n",
            "   2.85889183  6.1941275   6.0698395   4.3864224   6.26840642  5.08729716\n",
            "   5.97604338  5.93546196  4.05149606  7.71281454  4.36711656  5.65806807\n",
            "   6.32116569  3.97109189  4.51251722  6.93994783  3.08414429  5.85459412\n",
            "   3.48216707  4.78167424  4.85036373  5.51343281  3.6669324   5.47094123\n",
            "   3.53890043  1.90498252  5.2158736   4.83906325  5.86400976  4.47254898\n",
            "   5.102946    5.23169776  4.57423514  4.11015222  6.28462598  5.69944429\n",
            "   5.38754383]\n",
            " [ 6.23470742  2.34672841  7.36300162  5.90502269  3.9849225   4.85024975\n",
            "   6.91950296  9.3744342   5.16115609  2.53767351  4.04382535  8.85234498\n",
            "   6.95809158  5.01533375  3.75971183  4.0912021   3.73335324  1.68031669\n",
            "   2.51158014  5.87760073  7.47622288  3.7951892   6.35355538  6.23304135\n",
            "   4.77567044  7.94265498  5.99902907  7.49730451  6.01216392  6.59184346\n",
            "   6.38436298  2.75019614  8.2872877   3.81774091  3.59500803  5.25081569\n",
            "   2.56947281  7.04619452  3.86970748  3.79944737  5.25561521  7.38486766\n",
            "   4.84214844]\n",
            " [ 5.55625798  6.26392502  5.41685815  4.40356891  6.81410411  6.12253982\n",
            "   7.08811183  4.03468849  3.62147168  5.42098412  6.26867867  8.54583468\n",
            "   6.61198798  4.88312571  6.01695806  4.47818422  3.16889938  3.62615857\n",
            "   4.6813798   6.12951172  6.78904278  1.40144425  9.31382922  3.14571089\n",
            "   4.32425664  7.66094003  7.39749223  7.08635343  8.22449688  2.19514761\n",
            "   9.05885178  5.3139767   4.41075662  5.81759468  4.75435764  5.87281614\n",
            "   4.27976085  7.67048514  4.63458355  6.77083676  6.05138594  6.48930965\n",
            "   3.97254029]\n",
            " [ 4.9475544   4.89539831  1.6372312   8.00330565  6.26195313  4.31492066\n",
            "   3.41495212  9.13503326  5.57202619  5.0050729   4.34613675  6.52341702\n",
            "   3.3923278   7.30479062  3.38049113  8.19534902  6.19788387  4.83823973\n",
            "   3.37911869  6.21912118  4.61616489 10.81828132  2.28573831  7.80123996\n",
            "   5.8069079   5.3955363   1.02885932  5.94017187  2.01370732  6.77732171\n",
            "   2.62955279 -0.08306288  6.85048906  3.68142617  7.39228396  3.60372126\n",
            "   5.32168254  6.9660508   3.81958045  1.79238384  7.91863186  8.44320383\n",
            "   6.50190302]\n",
            " [ 5.40223068  5.95406667  5.38244939  4.72394282  4.52472169  5.91373921\n",
            "   2.37497979  2.68251108  5.69837112  3.87708776  7.64287297  3.78286441\n",
            "   7.66043668  4.3305039   4.58752724  6.69450715  2.33379193  5.95017396\n",
            "   8.37273189  1.96702352  4.13935466  2.71015069  4.14949204  3.33512581\n",
            "   1.2329753   4.09194707  7.87162704  4.85221576  5.2006426   3.27923324\n",
            "   4.60425564  3.64990236  3.02017426  5.65674153  4.26412265  4.94672673\n",
            "   4.6363293   3.70266391  4.86127826  6.10123193  4.63361568  3.06240323\n",
            "   3.87882529]\n",
            " [ 5.49520274  4.04402151  7.72631303  3.06283574  3.01745345  5.59782924\n",
            "   4.13816791  2.48042911  4.67257778  2.18017545  6.6899128   4.96702912\n",
            "   8.74931838  2.65594219  4.32606192  3.75013366  0.61376496  3.4418376\n",
            "   6.84779513  1.71730292  5.33670663 -1.54521925  6.20191683  1.98720989\n",
            "   0.5148503   5.23778239  9.70921033  5.3346941   6.9662558   2.54296413\n",
            "   6.41575866  4.65171502  3.40090507  5.11992798  1.79632286  5.29341714\n",
            "   2.58134223  3.63498201  4.25554308  6.55479388  2.8605916   2.38038174\n",
            "   2.47902147]\n",
            " [ 5.32980153  3.40934342  5.15455637  5.56907642  4.70713904  4.58319631\n",
            "   5.6781407   7.57422494  4.45156415  3.32242678  4.2085694   7.76113128\n",
            "   5.63052428  5.04386032  3.75374666  4.67799014  3.69488175  2.42969254\n",
            "   2.81105307  5.52752829  6.19267599  4.36287914  5.65245044  5.39525491\n",
            "   4.42141556  6.81889005  4.76941143  6.57736311  5.16593591  5.13576835\n",
            "   5.69138121  2.26304485  6.56879139  3.81591262  4.27424759  4.57059931\n",
            "   3.15330068  6.69239869  3.5938395   3.60525752  5.58368133  6.92694825\n",
            "   4.55563621]]\n",
            "\n"
          ]
        }
      ]
    }
  ]
}